{
 "cells": [
  {
   "cell_type": "code",
   "execution_count": 1,
   "metadata": {},
   "outputs": [],
   "source": [
    "import numpy as np\n",
    "import torch.optim as optim"
   ]
  },
  {
   "cell_type": "code",
   "execution_count": 4,
   "metadata": {},
   "outputs": [],
   "source": [
    "num_iterations = 5\n",
    "N = 1000\n",
    "D = 20\n",
    "\n",
    "A = np.random.randn(N, D)\n",
    "b = np.random.randn(N, 1)\n",
    "Y = np.random.rand(N, 1)"
   ]
  },
  {
   "cell_type": "code",
   "execution_count": 3,
   "metadata": {},
   "outputs": [
    {
     "name": "stdout",
     "output_type": "stream",
     "text": [
      "13218.725722259838\n",
      "('O Val:', 503.7030770044544)\n",
      "('O Val:', 503.70307384103387)\n",
      "('O Val:', 503.7030786237145)\n",
      "('O Val:', 503.7030712532673)\n",
      "('O Val:', 503.7030778652381)\n",
      "('Weights: ', array([[-0.02279339],\n",
      "       [-0.03123076],\n",
      "       [ 0.03235469],\n",
      "       [-0.00769174],\n",
      "       [-0.03006917],\n",
      "       [-0.01935186],\n",
      "       [ 0.0200083 ],\n",
      "       [-0.0228672 ],\n",
      "       [ 0.03491097],\n",
      "       [-0.0216022 ],\n",
      "       [ 0.0118515 ],\n",
      "       [-0.03075605],\n",
      "       [-0.019314  ],\n",
      "       [ 0.05811015],\n",
      "       [ 0.02316836],\n",
      "       [ 0.02389774],\n",
      "       [-0.06124286],\n",
      "       [-0.02646492],\n",
      "       [-0.01167727],\n",
      "       [-0.03814794]]))\n"
     ]
    }
   ],
   "source": [
    "admm = optim.ADMM([A, b, 0.01], \"Lasso\") #, parallel = True)\n",
    "\n",
    "print(admm.getLoss())\n",
    "for i in range(0, num_iterations):\n",
    "    print('O Val:', admm.step())\n",
    "\n",
    "print('Weights: ',admm.getWeights())\n"
   ]
  },
  {
   "cell_type": "code",
   "execution_count": null,
   "metadata": {},
   "outputs": [],
   "source": []
  }
 ],
 "metadata": {
  "kernelspec": {
   "display_name": "Python 3",
   "language": "python",
   "name": "python3"
  },
  "language_info": {
   "codemirror_mode": {
    "name": "ipython",
    "version": 2
   },
   "file_extension": ".py",
   "mimetype": "text/x-python",
   "name": "python",
   "nbconvert_exporter": "python",
   "pygments_lexer": "ipython2",
   "version": "2.7.14"
  }
 },
 "nbformat": 4,
 "nbformat_minor": 2
}
